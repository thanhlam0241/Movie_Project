{
 "cells": [
  {
   "cell_type": "code",
   "execution_count": null,
   "metadata": {},
   "outputs": [],
   "source": [
    "import os\n",
    "import json\n",
    "# traverse whole directory\n",
    "\n",
    "paths = []\n",
    "\n",
    "for root, dirs, files in os.walk('../../datalake/credit/'):\n",
    "    # select file name\n",
    "    for file in files:\n",
    "        # check the extension of files\n",
    "        if file.endswith('.json'):\n",
    "            # print whole path of files\n",
    "            print(os.path.join(root, file))\n",
    "            paths.append(os.path.join(root, file))\n",
    "def write_to_json(path, list_data):\n",
    "    with open(path, 'w') as file:\n",
    "        json.dump(list_data, file, indent=2)\n",
    "def get_list(path):\n",
    "    # Opening JSON file\n",
    "    try:\n",
    "        f = open(path)\n",
    "        data = json.load(f)\n",
    "        print('Load data success in' + path)\n",
    "        return data\n",
    "    except:\n",
    "        return None\n"
   ]
  },
  {
   "cell_type": "code",
   "execution_count": null,
   "metadata": {},
   "outputs": [],
   "source": [
    "list_crew = []\n",
    "list_cast = []\n",
    "for path in paths:\n",
    "    list_data = get_list(path)\n",
    "    if list_data is not None:\n",
    "        for data in list_data:\n",
    "            id = data['id']\n",
    "            cast = data['cast']\n",
    "            crew = data['crew']\n",
    "            for c in cast:\n",
    "                data_cast = {\n",
    "                    '_id': c['credit_id'],\n",
    "                    'person_id': c['id'],\n",
    "                    'movie_id': id,\n",
    "                    'order': c['order'],\n",
    "                    'character': c['character']\n",
    "                }\n",
    "                list_cast.append(data_cast)\n",
    "            for c in crew:\n",
    "                data_crew = {\n",
    "                    '_id': c['credit_id'],\n",
    "                    'person_id': c['id'],\n",
    "                    'department': c['department'],\n",
    "                    'job': c['job'],\n",
    "                    'movie_id': id\n",
    "                }\n",
    "                list_crew.append(data_crew)\n",
    "\n",
    "write_to_json('../raw/cast.json', list_cast)\n",
    "write_to_json('../raw/crew.json', list_crew)\n",
    "\n",
    "\n",
    "# write_to_json('../raw/credit.json', list_datas)"
   ]
  }
 ],
 "metadata": {
  "kernelspec": {
   "display_name": "py8",
   "language": "python",
   "name": "python3"
  },
  "language_info": {
   "codemirror_mode": {
    "name": "ipython",
    "version": 3
   },
   "file_extension": ".py",
   "mimetype": "text/x-python",
   "name": "python",
   "nbconvert_exporter": "python",
   "pygments_lexer": "ipython3",
   "version": "3.8.19"
  }
 },
 "nbformat": 4,
 "nbformat_minor": 2
}
