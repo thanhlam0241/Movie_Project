{
 "cells": [
  {
   "cell_type": "code",
   "execution_count": 2,
   "metadata": {},
   "outputs": [],
   "source": [
    "import pandas as pd"
   ]
  },
  {
   "cell_type": "code",
   "execution_count": 4,
   "metadata": {},
   "outputs": [],
   "source": [
    "kg_pd = pd.read_csv('kg.csv')\n",
    "l = len(kg_pd)\n",
    "i = 0\n",
    "while i < l:\n",
    "    i_end = i + 100000 if i + 100000 < l else l\n",
    "    kg_i = kg_pd[i:i_end]\n",
    "    kg_i.to_csv('kg/kg_{}.csv'.format(i), index=False)\n",
    "    i = i_end"
   ]
  },
  {
   "cell_type": "code",
   "execution_count": 4,
   "metadata": {},
   "outputs": [],
   "source": [
    "kg_pd = pd.read_csv('kg.csv')\n",
    "kg_i = kg_pd[410000:500000]\n",
    "kg_i.to_csv('kg/kg_410000.csv'.format(), index=False)"
   ]
  }
 ],
 "metadata": {
  "kernelspec": {
   "display_name": "Python 3",
   "language": "python",
   "name": "python3"
  },
  "language_info": {
   "codemirror_mode": {
    "name": "ipython",
    "version": 3
   },
   "file_extension": ".py",
   "mimetype": "text/x-python",
   "name": "python",
   "nbconvert_exporter": "python",
   "pygments_lexer": "ipython3",
   "version": "3.12.0"
  }
 },
 "nbformat": 4,
 "nbformat_minor": 2
}
