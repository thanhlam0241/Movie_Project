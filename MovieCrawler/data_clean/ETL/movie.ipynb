{
 "cells": [
  {
   "cell_type": "code",
   "execution_count": 6,
   "metadata": {},
   "outputs": [],
   "source": [
    "import pandas as pd\n",
    "import json"
   ]
  },
  {
   "cell_type": "code",
   "execution_count": 48,
   "metadata": {},
   "outputs": [],
   "source": [
    "f = open('../raw/data/movie.json')\n",
    "data = json.load(f)\n",
    "result = [json.dumps(record) for record in data]\n",
    "result = [json.dumps({\"id\": record['id'], 'title': record['title'], 'popularity': record['popularity']}) for record in data]\n",
    "with open(f'./elasticmovie.json', 'w') as obj:\n",
    "    for i in result:\n",
    "        obj.write(i+'\\n')"
   ]
  },
  {
   "cell_type": "code",
   "execution_count": null,
   "metadata": {},
   "outputs": [],
   "source": [
    "df_movies = pd.read_json('../raw/data/movie.json')\n",
    "df_movies.info()"
   ]
  },
  {
   "cell_type": "code",
   "execution_count": null,
   "metadata": {},
   "outputs": [],
   "source": [
    "df_movies.head()"
   ]
  },
  {
   "cell_type": "code",
   "execution_count": null,
   "metadata": {},
   "outputs": [],
   "source": [
    "print(df_movies.head(1))"
   ]
  },
  {
   "cell_type": "code",
   "execution_count": 12,
   "metadata": {},
   "outputs": [],
   "source": [
    "from datetime import datetime, timedelta\n",
    "import pytz\n",
    "import random\n",
    "\n",
    "def random_date(start, end):\n",
    "    \"\"\"\n",
    "    Generate a random datetime between `start` and `end`.\n",
    "    \"\"\"\n",
    "    delta = end - start\n",
    "    random_seconds = random.randint(0, int(delta.total_seconds()))\n",
    "    return start + timedelta(seconds=random_seconds)\n",
    "\n",
    "def format_datetime_to_iso(dt):\n",
    "    \"\"\"\n",
    "    Format datetime to ISO 8601 format with 'Z' for UTC.\n",
    "    \"\"\"\n",
    "    # Assuming the input datetime is naive (without timezone information)\n",
    "    dt_utc = dt + timedelta(hours=-0)  # Manually adjust to UTC if needed\n",
    "    return dt_utc.strftime(\"%Y-%m-%dT%H:%M:%S.%f\")[:-3] + 'Z'\n",
    "\n",
    "def conver_datetime(date_string):\n",
    "    try:\n",
    "        # Định dạng chuỗi ngày tháng ban đầu\n",
    "        date_format_input = \"%Y-%m-%d\"\n",
    "\n",
    "        # Chuyển đổi chuỗi ngày tháng thành đối tượng datetime\n",
    "        date_object = datetime.strptime(date_string, date_format_input)\n",
    "\n",
    "        # Add current time to the date object\n",
    "        current_time = datetime.now().time()\n",
    "        datetime_object = datetime.combine(date_object, current_time)\n",
    "\n",
    "        # Convert to the desired format with milliseconds and UTC timezone\n",
    "        utc_datetime_object = datetime_object.astimezone(pytz.utc)\n",
    "        formatted_string = utc_datetime_object.strftime(\"%Y-%m-%dT%H:%M:%S.%f\")[:-3] + 'Z'\n",
    "\n",
    "        return formatted_string\n",
    "    except Exception as ex:\n",
    "        if type(date_string) == 'string' or date_string != '':\n",
    "            date_return = date_string + 'T11:24:09.189Z'\n",
    "            if date_return[0] == 'T':\n",
    "                print(date_string)\n",
    "            else:\n",
    "                return date_return\n",
    "        print(date_string)\n",
    "        return '2014-06-25T11:24:09.189Z'"
   ]
  },
  {
   "cell_type": "code",
   "execution_count": 13,
   "metadata": {},
   "outputs": [],
   "source": [
    "from datetime import datetime, date\n",
    "def json_serial(obj):\n",
    "    \"\"\"JSON serializer for objects not serializable by default json code\"\"\"\n",
    "\n",
    "    if isinstance(obj, (datetime, date)):\n",
    "        return obj.isoformat()\n",
    "    raise TypeError (\"Type %s not serializable\" % type(obj))\n",
    "def write_to_json(path, list_data):\n",
    "    with open(path, 'w') as file:\n",
    "        json.dump(list_data, file, indent=2, default=json_serial)\n",
    "def checkStringEmpty(value):\n",
    "    if value == \"\" or value is None:\n",
    "        return True\n",
    "    return False\n",
    "def getLanguage(value):\n",
    "    if value is None or len(value) == 0:\n",
    "        return None\n",
    "    return value[0]['name']\n",
    "def getImageUrl(value):\n",
    "    if checkStringEmpty(value):\n",
    "        return None\n",
    "    return 'https://image.tmdb.org/t/p/original' + value"
   ]
  },
  {
   "cell_type": "code",
   "execution_count": null,
   "metadata": {},
   "outputs": [],
   "source": [
    "import random\n",
    "from math import ceil\n",
    "\n",
    "List_movie = []\n",
    "# loop through the rows using iterrows()\n",
    "for index, row in df_movies.iterrows():\n",
    "\n",
    "    revenue_cus = row['revenue'] if row['revenue'] > 0 else random.randint(1000000, 2000000)\n",
    "    budget_cus = row['budget'] if row['revenue'] > 0 else random.randint(50000, revenue_cus)\n",
    "\n",
    "    vote_average = row['vote_average'] if row['vote_average'] > 0 else random.uniform(1.0, 10.0)\n",
    "    vote_count = row['vote_count'] if row['vote_count'] > 0 else random.randint(20, 300)\n",
    "\n",
    "    release_date = conver_datetime(row['release_date'])\n",
    "\n",
    "    movie = {\n",
    "        \"id\": row['id'],\n",
    "        \"title\": row['title'],\n",
    "        \"genres\": [genre['id'] for genre in row['genres']],\n",
    "        \"overview\": row['overview'],\n",
    "        \"poster_path\": getImageUrl(row['poster_path']),\n",
    "        \"backdrop_path\": getImageUrl(row['backdrop_path']),\n",
    "        \"release_date\": {\"$date\": conver_datetime(row['release_date'])},\n",
    "        \"popularity\": row['popularity'],\n",
    "        \"revenue\": revenue_cus,\n",
    "        \"budget\": budget_cus,\n",
    "        \"status\": row['status'],\n",
    "        \"vote_average\": round(vote_average, 1),\n",
    "        \"vote_count\": vote_count,\n",
    "        \"runtime\": row['runtime'],\n",
    "        \"view\": ceil(row['popularity'] * 10000 +  vote_count)\n",
    "    }\n",
    "    List_movie.append(movie)\n",
    "\n",
    "write_to_json('./data/movie_db.json', List_movie)"
   ]
  }
 ],
 "metadata": {
  "kernelspec": {
   "display_name": "py8",
   "language": "python",
   "name": "python3"
  },
  "language_info": {
   "codemirror_mode": {
    "name": "ipython",
    "version": 3
   },
   "file_extension": ".py",
   "mimetype": "text/x-python",
   "name": "python",
   "nbconvert_exporter": "python",
   "pygments_lexer": "ipython3",
   "version": "3.12.0"
  }
 },
 "nbformat": 4,
 "nbformat_minor": 2
}
