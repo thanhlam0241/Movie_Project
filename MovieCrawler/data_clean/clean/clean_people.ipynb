{
 "cells": [
  {
   "cell_type": "code",
   "execution_count": 2,
   "metadata": {},
   "outputs": [],
   "source": [
    "import pandas as pd\n",
    "import json"
   ]
  },
  {
   "cell_type": "code",
   "execution_count": 3,
   "metadata": {},
   "outputs": [],
   "source": [
    "def write_to_json(path, list_data):\n",
    "    with open(path, 'w') as file:\n",
    "        json.dump(list_data, file, indent=2)"
   ]
  },
  {
   "cell_type": "code",
   "execution_count": 33,
   "metadata": {},
   "outputs": [],
   "source": [
    "def get_list_people(index):\n",
    "    # Opening JSON file\n",
    "    try:\n",
    "        f = open(f'../datalake/people/{index}.json')\n",
    "        data = json.load(f)\n",
    "        return data\n",
    "    except:\n",
    "        return None"
   ]
  },
  {
   "cell_type": "code",
   "execution_count": 37,
   "metadata": {},
   "outputs": [],
   "source": [
    "index = 0\n",
    "list_people = []\n",
    "while index <= 334:\n",
    "    list_data = get_list_people(index)\n",
    "    if list_data is not None:\n",
    "        list_people.extend(list_data)\n",
    "    index += 1\n",
    "\n",
    "write_to_json('./people.json', list_people)\n"
   ]
  },
  {
   "cell_type": "code",
   "execution_count": 38,
   "metadata": {},
   "outputs": [
    {
     "name": "stdout",
     "output_type": "stream",
     "text": [
      "<class 'pandas.core.frame.DataFrame'>\n",
      "RangeIndex: 3308058 entries, 0 to 3308057\n",
      "Data columns (total 13 columns):\n",
      " #   Column                Dtype  \n",
      "---  ------                -----  \n",
      " 0   adult                 bool   \n",
      " 1   biography             object \n",
      " 2   birthday              object \n",
      " 3   deathday              object \n",
      " 4   gender                int64  \n",
      " 5   homepage              object \n",
      " 6   id                    int64  \n",
      " 7   imdb_id               object \n",
      " 8   known_for_department  object \n",
      " 9   name                  object \n",
      " 10  place_of_birth        object \n",
      " 11  popularity            float64\n",
      " 12  profile_path          object \n",
      "dtypes: bool(1), float64(1), int64(2), object(9)\n",
      "memory usage: 306.0+ MB\n"
     ]
    }
   ],
   "source": [
    "df = pd.read_json('./people.json')\n",
    "df.info()"
   ]
  },
  {
   "cell_type": "code",
   "execution_count": 53,
   "metadata": {},
   "outputs": [
    {
     "name": "stdout",
     "output_type": "stream",
     "text": [
      "adult                                                               False\n",
      "biography               Sakari Jyrki Kuosmanen (born 6 September 1956 ...\n",
      "birthday                                                       1956-09-06\n",
      "deathday                                                             None\n",
      "gender                                                                  2\n",
      "homepage                                                             None\n",
      "id                                                                   4828\n",
      "imdb_id                                                         nm0475411\n",
      "known_for_department                                               Acting\n",
      "name                                                     Sakari Kuosmanen\n",
      "place_of_birth                                          Helsinki, Finland\n",
      "popularity                                                          2.866\n",
      "profile_path            https://image.tmdb.org/t/p/original/syM87lzV2I...\n",
      "Name: 10, dtype: object\n"
     ]
    }
   ],
   "source": [
    "# print(df['profile_path'][4])\n",
    "# print(df['id'][4])\n",
    "print(df.iloc[10])"
   ]
  }
 ],
 "metadata": {
  "kernelspec": {
   "display_name": "py7",
   "language": "python",
   "name": "python3"
  },
  "language_info": {
   "codemirror_mode": {
    "name": "ipython",
    "version": 3
   },
   "file_extension": ".py",
   "mimetype": "text/x-python",
   "name": "python",
   "nbconvert_exporter": "python",
   "pygments_lexer": "ipython3",
   "version": "3.8.19"
  }
 },
 "nbformat": 4,
 "nbformat_minor": 2
}
