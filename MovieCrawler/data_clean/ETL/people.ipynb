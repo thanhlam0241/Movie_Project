{
 "cells": [
  {
   "cell_type": "code",
   "execution_count": null,
   "metadata": {},
   "outputs": [],
   "source": [
    "import pandas as pd\n",
    "import json"
   ]
  },
  {
   "cell_type": "code",
   "execution_count": null,
   "metadata": {},
   "outputs": [],
   "source": [
    "df_people = pd.read_json('../raw/people.json')"
   ]
  },
  {
   "cell_type": "code",
   "execution_count": null,
   "metadata": {},
   "outputs": [],
   "source": [
    "df_people.head()"
   ]
  },
  {
   "cell_type": "code",
   "execution_count": null,
   "metadata": {},
   "outputs": [],
   "source": [
    "df_people.info()"
   ]
  },
  {
   "cell_type": "code",
   "execution_count": null,
   "metadata": {},
   "outputs": [],
   "source": [
    "def write_to_json(path, list_data):\n",
    "    with open(path, 'w') as file:\n",
    "        json.dump(list_data, file, indent=2)\n",
    "def checkStringEmpty(value):\n",
    "    if value == \"\" or value is None:\n",
    "        return True\n",
    "    return False\n",
    "def getImageUrl(value):\n",
    "    if checkStringEmpty(value):\n",
    "        return None\n",
    "    return value"
   ]
  },
  {
   "cell_type": "code",
   "execution_count": null,
   "metadata": {},
   "outputs": [],
   "source": [
    "List_people = []\n",
    "# loop through the rows using iterrows()\n",
    "for index, row in df_people.iterrows():\n",
    "    person = {\n",
    "        'id': row['id'],\n",
    "        'name': row['name'],\n",
    "        'biography': row['biography'],\n",
    "        'deathday': row['deathday'],\n",
    "        'birthday': row['birthday'],\n",
    "        'gender': row['gender'],\n",
    "        'imdb_id': row['imdb_id'],\n",
    "        'job': row['known_for_department'],\n",
    "        'place_of_birth': row['place_of_birth'],\n",
    "        'image': getImageUrl(row['profile_path'])\n",
    "    }\n",
    "    \n",
    "\n",
    "    List_people.append(person)\n",
    "\n",
    "write_to_json('./data/people.json', List_people)\n",
    "    \n",
    "\n",
    "        "
   ]
  }
 ],
 "metadata": {
  "kernelspec": {
   "display_name": "py8",
   "language": "python",
   "name": "python3"
  },
  "language_info": {
   "codemirror_mode": {
    "name": "ipython",
    "version": 3
   },
   "file_extension": ".py",
   "mimetype": "text/x-python",
   "name": "python",
   "nbconvert_exporter": "python",
   "pygments_lexer": "ipython3",
   "version": "3.8.19"
  }
 },
 "nbformat": 4,
 "nbformat_minor": 2
}
