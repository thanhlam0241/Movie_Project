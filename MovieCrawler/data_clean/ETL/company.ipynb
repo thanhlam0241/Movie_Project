{
 "cells": [
  {
   "cell_type": "code",
   "execution_count": 1,
   "metadata": {},
   "outputs": [],
   "source": [
    "import pandas as pd\n",
    "import numpy as np\n",
    "import json"
   ]
  },
  {
   "cell_type": "markdown",
   "metadata": {},
   "source": [
    "# Extract"
   ]
  },
  {
   "cell_type": "code",
   "execution_count": 2,
   "metadata": {},
   "outputs": [
    {
     "name": "stdout",
     "output_type": "stream",
     "text": [
      "<class 'pandas.core.frame.DataFrame'>\n",
      "RangeIndex: 157078 entries, 0 to 157077\n",
      "Data columns (total 8 columns):\n",
      " #   Column          Non-Null Count   Dtype \n",
      "---  ------          --------------   ----- \n",
      " 0   description     157078 non-null  object\n",
      " 1   headquarters    157078 non-null  object\n",
      " 2   homepage        157078 non-null  object\n",
      " 3   id              157078 non-null  int64 \n",
      " 4   logo_path       11927 non-null   object\n",
      " 5   name            157078 non-null  object\n",
      " 6   origin_country  35500 non-null   object\n",
      " 7   parent_company  28 non-null      object\n",
      "dtypes: int64(1), object(7)\n",
      "memory usage: 9.6+ MB\n"
     ]
    }
   ],
   "source": [
    "df = pd.read_json('../raw/company.json')\n",
    "df.info()"
   ]
  },
  {
   "cell_type": "code",
   "execution_count": 3,
   "metadata": {},
   "outputs": [
    {
     "data": {
      "text/html": [
       "<div>\n",
       "<style scoped>\n",
       "    .dataframe tbody tr th:only-of-type {\n",
       "        vertical-align: middle;\n",
       "    }\n",
       "\n",
       "    .dataframe tbody tr th {\n",
       "        vertical-align: top;\n",
       "    }\n",
       "\n",
       "    .dataframe thead th {\n",
       "        text-align: right;\n",
       "    }\n",
       "</style>\n",
       "<table border=\"1\" class=\"dataframe\">\n",
       "  <thead>\n",
       "    <tr style=\"text-align: right;\">\n",
       "      <th></th>\n",
       "      <th>description</th>\n",
       "      <th>headquarters</th>\n",
       "      <th>homepage</th>\n",
       "      <th>id</th>\n",
       "      <th>logo_path</th>\n",
       "      <th>name</th>\n",
       "      <th>origin_country</th>\n",
       "      <th>parent_company</th>\n",
       "    </tr>\n",
       "  </thead>\n",
       "  <tbody>\n",
       "    <tr>\n",
       "      <th>0</th>\n",
       "      <td></td>\n",
       "      <td>San Francisco, California</td>\n",
       "      <td>https://www.lucasfilm.com</td>\n",
       "      <td>1</td>\n",
       "      <td>/tlVSws0RvvtPBwViUyOFAO0vcQS.png</td>\n",
       "      <td>Lucasfilm Ltd.</td>\n",
       "      <td>US</td>\n",
       "      <td>None</td>\n",
       "    </tr>\n",
       "    <tr>\n",
       "      <th>1</th>\n",
       "      <td></td>\n",
       "      <td>Burbank, California</td>\n",
       "      <td>https://movies.disney.com</td>\n",
       "      <td>2</td>\n",
       "      <td>/wdrCwmRnLFJhEoH8GSfymY85KHT.png</td>\n",
       "      <td>Walt Disney Pictures</td>\n",
       "      <td>US</td>\n",
       "      <td>None</td>\n",
       "    </tr>\n",
       "    <tr>\n",
       "      <th>2</th>\n",
       "      <td></td>\n",
       "      <td>Emeryville, California</td>\n",
       "      <td>http://www.pixar.com</td>\n",
       "      <td>3</td>\n",
       "      <td>/1TjvGVDMYsj6JBxOAkUHpPEwLf7.png</td>\n",
       "      <td>Pixar</td>\n",
       "      <td>US</td>\n",
       "      <td>{'name': 'Walt Disney Pictures', 'id': 2, 'log...</td>\n",
       "    </tr>\n",
       "    <tr>\n",
       "      <th>3</th>\n",
       "      <td></td>\n",
       "      <td>Hollywood, California</td>\n",
       "      <td>https://www.paramountpictures.com</td>\n",
       "      <td>4</td>\n",
       "      <td>/gz66EfNoYPqHTYI4q9UEN4CbHRc.png</td>\n",
       "      <td>Paramount</td>\n",
       "      <td>US</td>\n",
       "      <td>{'name': 'Viacom International', 'id': 5308, '...</td>\n",
       "    </tr>\n",
       "    <tr>\n",
       "      <th>4</th>\n",
       "      <td>Columbia Pictures Industries, Inc. (CPII) is a...</td>\n",
       "      <td>Culver City, California</td>\n",
       "      <td>http://www.sonypictures.com</td>\n",
       "      <td>5</td>\n",
       "      <td>/71BqEFAF4V3qjjMPCpLuyJFB9A.png</td>\n",
       "      <td>Columbia Pictures</td>\n",
       "      <td>US</td>\n",
       "      <td>None</td>\n",
       "    </tr>\n",
       "  </tbody>\n",
       "</table>\n",
       "</div>"
      ],
      "text/plain": [
       "                                         description  \\\n",
       "0                                                      \n",
       "1                                                      \n",
       "2                                                      \n",
       "3                                                      \n",
       "4  Columbia Pictures Industries, Inc. (CPII) is a...   \n",
       "\n",
       "                headquarters                           homepage  id  \\\n",
       "0  San Francisco, California          https://www.lucasfilm.com   1   \n",
       "1        Burbank, California          https://movies.disney.com   2   \n",
       "2     Emeryville, California               http://www.pixar.com   3   \n",
       "3      Hollywood, California  https://www.paramountpictures.com   4   \n",
       "4    Culver City, California        http://www.sonypictures.com   5   \n",
       "\n",
       "                          logo_path                  name origin_country  \\\n",
       "0  /tlVSws0RvvtPBwViUyOFAO0vcQS.png        Lucasfilm Ltd.             US   \n",
       "1  /wdrCwmRnLFJhEoH8GSfymY85KHT.png  Walt Disney Pictures             US   \n",
       "2  /1TjvGVDMYsj6JBxOAkUHpPEwLf7.png                 Pixar             US   \n",
       "3  /gz66EfNoYPqHTYI4q9UEN4CbHRc.png             Paramount             US   \n",
       "4   /71BqEFAF4V3qjjMPCpLuyJFB9A.png     Columbia Pictures             US   \n",
       "\n",
       "                                      parent_company  \n",
       "0                                               None  \n",
       "1                                               None  \n",
       "2  {'name': 'Walt Disney Pictures', 'id': 2, 'log...  \n",
       "3  {'name': 'Viacom International', 'id': 5308, '...  \n",
       "4                                               None  "
      ]
     },
     "execution_count": 3,
     "metadata": {},
     "output_type": "execute_result"
    }
   ],
   "source": [
    "df.head()"
   ]
  },
  {
   "cell_type": "markdown",
   "metadata": {},
   "source": [
    "# Load"
   ]
  },
  {
   "cell_type": "code",
   "execution_count": 5,
   "metadata": {},
   "outputs": [],
   "source": [
    "def write_to_json(path, list_data):\n",
    "    with open(path, 'w') as file:\n",
    "        json.dump(list_data, file, indent=2)\n",
    "def checkStringEmpty(value):\n",
    "    if value == \"\" or value is None:\n",
    "        return True\n",
    "    return False\n",
    "def getLanguage(value):\n",
    "    if value is None or len(value) == 0:\n",
    "        return None\n",
    "    return value[0]['name']\n",
    "def getImageUrl(value):\n",
    "    if checkStringEmpty(value):\n",
    "        return None\n",
    "    return 'https://image.tmdb.org/t/p/original' + value"
   ]
  },
  {
   "cell_type": "markdown",
   "metadata": {},
   "source": [
    "# Transform"
   ]
  },
  {
   "cell_type": "code",
   "execution_count": 6,
   "metadata": {},
   "outputs": [],
   "source": [
    "List_data = []\n",
    "# loop through the rows using iterrows()\n",
    "for index, row in df.iterrows():\n",
    "    data = {\n",
    "        'id': row['id'],\n",
    "        'name': row['name'],\n",
    "        'description': row['description'],\n",
    "        'headquarters': row['headquarters'],\n",
    "        'homepage': row['homepage'],\n",
    "        'origin_country': row['origin_country'],\n",
    "        'parent_company': row['parent_company'],\n",
    "        'image': getImageUrl(row['logo_path'])\n",
    "    }\n",
    "    \n",
    "\n",
    "    List_data.append(data)\n",
    "\n",
    "write_to_json('./data/company.json', List_data)\n",
    "    \n",
    "\n",
    "        "
   ]
  }
 ],
 "metadata": {
  "kernelspec": {
   "display_name": "py8",
   "language": "python",
   "name": "python3"
  },
  "language_info": {
   "codemirror_mode": {
    "name": "ipython",
    "version": 3
   },
   "file_extension": ".py",
   "mimetype": "text/x-python",
   "name": "python",
   "nbconvert_exporter": "python",
   "pygments_lexer": "ipython3",
   "version": "3.8.19"
  }
 },
 "nbformat": 4,
 "nbformat_minor": 2
}
