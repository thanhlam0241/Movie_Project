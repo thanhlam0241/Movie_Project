{
 "cells": [
  {
   "cell_type": "code",
   "execution_count": 1,
   "metadata": {},
   "outputs": [],
   "source": [
    "import pandas as pd\n",
    "import json "
   ]
  },
  {
   "cell_type": "code",
   "execution_count": 2,
   "metadata": {},
   "outputs": [],
   "source": [
    "reviews = pd.read_json(\"../raw/data/reviews.json\")"
   ]
  },
  {
   "cell_type": "code",
   "execution_count": 3,
   "metadata": {},
   "outputs": [
    {
     "name": "stdout",
     "output_type": "stream",
     "text": [
      "<class 'pandas.core.frame.DataFrame'>\n",
      "RangeIndex: 17910 entries, 0 to 17909\n",
      "Data columns (total 3 columns):\n",
      " #   Column         Non-Null Count  Dtype \n",
      "---  ------         --------------  ----- \n",
      " 0   id             17910 non-null  int64 \n",
      " 1   results        17910 non-null  object\n",
      " 2   total_results  17910 non-null  int64 \n",
      "dtypes: int64(2), object(1)\n",
      "memory usage: 419.9+ KB\n"
     ]
    }
   ],
   "source": [
    "reviews.info()"
   ]
  },
  {
   "cell_type": "code",
   "execution_count": 4,
   "metadata": {},
   "outputs": [],
   "source": [
    "def write_to_json(path, list_data):\n",
    "    with open(path, 'w') as file:\n",
    "        json.dump(list_data, file, indent=2)"
   ]
  },
  {
   "cell_type": "code",
   "execution_count": 5,
   "metadata": {},
   "outputs": [],
   "source": [
    "def checkStringEmpty(value):\n",
    "    if value == \"\" or value is None:\n",
    "        return True\n",
    "    return False"
   ]
  },
  {
   "cell_type": "code",
   "execution_count": 6,
   "metadata": {},
   "outputs": [],
   "source": [
    "List_users = []\n",
    "List_reviews = []\n",
    "dictionary_users = {}\n",
    "count = 0\n",
    "# loop through the rows using iterrows()\n",
    "for index, row in reviews.iterrows():\n",
    "    id = row['id']\n",
    "    list_users_reviews = row['results']\n",
    "    for user_review in list_users_reviews:\n",
    "        is_new_user = True\n",
    "        id_user = count\n",
    "        # user\n",
    "        author_details = user_review['author_details']\n",
    "        username = author_details['username']\n",
    "        name = author_details['name']\n",
    "        avatar = author_details['avatar_path']\n",
    "        rating = author_details['rating']\n",
    "        # review\n",
    "        content = user_review['content']\n",
    "        rating = author_details['rating']\n",
    "\n",
    "        if username in dictionary_users:\n",
    "            id_user = dictionary_users[username]['id']\n",
    "            is_new_user = False\n",
    "        else:\n",
    "            if checkStringEmpty(username):\n",
    "                username = \"anonymous\" + str(count)\n",
    "            if checkStringEmpty(name):\n",
    "                name = \"Anonymous\" + str(count)\n",
    "\n",
    "            user = {\n",
    "                \"username\": username,\n",
    "                \"name\": name,\n",
    "                \"id\": count,\n",
    "                \"avatar\": None if avatar is None else 'https://image.tmdb.org/t/p/original' + avatar,\n",
    "                \"password\": \"123456\"\n",
    "            }\n",
    "\n",
    "            dictionary_users[username] = user\n",
    "            List_users.append(user)\n",
    "\n",
    "            count += 1\n",
    "        \n",
    "        review = {\n",
    "            \"movie_id\": id,\n",
    "            \"user_id\": id_user,\n",
    "            \"content\": content,\n",
    "            \"rating\": rating\n",
    "        }\n",
    "\n",
    "        List_reviews.append(review)\n",
    "\n",
    "write_to_json(\"./data/users.json\", List_users)\n",
    "write_to_json(\"./data/reviews.json\", List_reviews)\n",
    "        "
   ]
  }
 ],
 "metadata": {
  "kernelspec": {
   "display_name": "py8",
   "language": "python",
   "name": "python3"
  },
  "language_info": {
   "codemirror_mode": {
    "name": "ipython",
    "version": 3
   },
   "file_extension": ".py",
   "mimetype": "text/x-python",
   "name": "python",
   "nbconvert_exporter": "python",
   "pygments_lexer": "ipython3",
   "version": "3.12.0"
  }
 },
 "nbformat": 4,
 "nbformat_minor": 2
}
