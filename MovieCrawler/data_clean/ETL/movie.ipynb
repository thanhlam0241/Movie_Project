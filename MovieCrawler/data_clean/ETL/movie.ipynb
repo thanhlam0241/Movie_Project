{
 "cells": [
  {
   "cell_type": "code",
   "execution_count": 1,
   "metadata": {},
   "outputs": [],
   "source": [
    "import pandas as pd\n",
    "import numpy as np\n",
    "import json"
   ]
  },
  {
   "cell_type": "code",
   "execution_count": 3,
   "metadata": {},
   "outputs": [
    {
     "name": "stdout",
     "output_type": "stream",
     "text": [
      "<class 'pandas.core.frame.DataFrame'>\n",
      "RangeIndex: 909968 entries, 0 to 909967\n",
      "Data columns (total 25 columns):\n",
      " #   Column                 Non-Null Count   Dtype  \n",
      "---  ------                 --------------   -----  \n",
      " 0   adult                  909968 non-null  bool   \n",
      " 1   backdrop_path          275177 non-null  object \n",
      " 2   belongs_to_collection  25642 non-null   object \n",
      " 3   budget                 909968 non-null  int64  \n",
      " 4   genres                 909968 non-null  object \n",
      " 5   homepage               909968 non-null  object \n",
      " 6   id                     909968 non-null  int64  \n",
      " 7   imdb_id                590720 non-null  object \n",
      " 8   original_language      909968 non-null  object \n",
      " 9   original_title         909968 non-null  object \n",
      " 10  overview               909968 non-null  object \n",
      " 11  popularity             909968 non-null  float64\n",
      " 12  poster_path            676416 non-null  object \n",
      " 13  production_companies   909968 non-null  object \n",
      " 14  production_countries   909968 non-null  object \n",
      " 15  release_date           909968 non-null  object \n",
      " 16  revenue                909968 non-null  int64  \n",
      " 17  runtime                909968 non-null  int64  \n",
      " 18  spoken_languages       909968 non-null  object \n",
      " 19  status                 909968 non-null  object \n",
      " 20  tagline                909968 non-null  object \n",
      " 21  title                  909968 non-null  object \n",
      " 22  video                  909968 non-null  bool   \n",
      " 23  vote_average           909968 non-null  float64\n",
      " 24  vote_count             909968 non-null  int64  \n",
      "dtypes: bool(2), float64(2), int64(5), object(16)\n",
      "memory usage: 161.4+ MB\n"
     ]
    }
   ],
   "source": [
    "df_movies = pd.read_json('../raw/movie.json')\n",
    "df_movies.info()"
   ]
  },
  {
   "cell_type": "code",
   "execution_count": 8,
   "metadata": {},
   "outputs": [
    {
     "name": "stdout",
     "output_type": "stream",
     "text": [
      "   adult                     backdrop_path belongs_to_collection  budget  \\\n",
      "0  False  /hQ4pYsIbP22TMXOUdSfC2mjWrO0.jpg                  None       0   \n",
      "\n",
      "                                              genres homepage  id    imdb_id  \\\n",
      "0  [{'id': 18, 'name': 'Drama'}, {'id': 35, 'name...            2  tt0094675   \n",
      "\n",
      "  original_language original_title  ... release_date  revenue runtime  \\\n",
      "0                fi          Ariel  ...   1988-10-21        0      73   \n",
      "\n",
      "                                    spoken_languages    status tagline  title  \\\n",
      "0  [{'english_name': 'Finnish', 'iso_639_1': 'fi'...  Released          Ariel   \n",
      "\n",
      "   video vote_average vote_count  \n",
      "0  False          7.1        307  \n",
      "\n",
      "[1 rows x 25 columns]\n"
     ]
    }
   ],
   "source": [
    "print(df_movies.head(1))"
   ]
  },
  {
   "cell_type": "code",
   "execution_count": 9,
   "metadata": {},
   "outputs": [],
   "source": [
    "def write_to_json(path, list_data):\n",
    "    with open(path, 'w') as file:\n",
    "        json.dump(list_data, file, indent=2)\n",
    "def checkStringEmpty(value):\n",
    "    if value == \"\" or value is None:\n",
    "        return True\n",
    "    return False\n",
    "def getLanguage(value):\n",
    "    if value is None or len(value) == 0:\n",
    "        return None\n",
    "    return value[0]['name']\n",
    "def getImageUrl(value):\n",
    "    if checkStringEmpty(value):\n",
    "        return None\n",
    "    return 'https://image.tmdb.org/t/p/original' + value"
   ]
  },
  {
   "cell_type": "code",
   "execution_count": 11,
   "metadata": {},
   "outputs": [],
   "source": [
    "List_movie = []\n",
    "list_company = []\n",
    "# loop through the rows using iterrows()\n",
    "for index, row in df_movies.iterrows():\n",
    "\n",
    "    genres = [ genre['id'] for genre in row['genres']]\n",
    "\n",
    "    companies = [ company['id'] for company in row['production_companies']]\n",
    "\n",
    "    list_company.extend(companies)\n",
    "\n",
    "    movie = {\n",
    "        \"id\": row['id'],\n",
    "        \"imdb_id\": row['imdb_id'],\n",
    "        \"title\": row['title'],\n",
    "        \"genres\": genres,\n",
    "        \"original_language\": row['original_language'],\n",
    "        \"original_title\": row['original_title'],\n",
    "        \"overview\": row['overview'],\n",
    "        \"poster_path\": getImageUrl(row['poster_path']),\n",
    "        \"backdrop_path\": getImageUrl(row['backdrop_path']),\n",
    "        \"release_date\": row['release_date'],\n",
    "        \"revenue\": row['revenue'],\n",
    "        \"budget\": row['budget'],\n",
    "        \"spoken_languages\": row['spoken_languages'],\n",
    "        \"production_countries\": row['production_countries'],\n",
    "        \"production_companies\": companies,\n",
    "        \"status\": row['status'],\n",
    "        \"video\": row['video'],\n",
    "        \"vote_average\": row['vote_average'],\n",
    "        \"vote_count\": row['vote_count']\n",
    "    }\n",
    "\n",
    "    List_movie.append(movie)\n",
    "\n",
    "write_to_json('./data/movie.json', List_movie)\n",
    "\n",
    "set_companies = set(list_company)\n",
    "write_to_json('./data/company.json', list(set_companies))\n",
    "    \n",
    "\n",
    "        "
   ]
  }
 ],
 "metadata": {
  "kernelspec": {
   "display_name": "py8",
   "language": "python",
   "name": "python3"
  },
  "language_info": {
   "codemirror_mode": {
    "name": "ipython",
    "version": 3
   },
   "file_extension": ".py",
   "mimetype": "text/x-python",
   "name": "python",
   "nbconvert_exporter": "python",
   "pygments_lexer": "ipython3",
   "version": "3.8.19"
  }
 },
 "nbformat": 4,
 "nbformat_minor": 2
}
