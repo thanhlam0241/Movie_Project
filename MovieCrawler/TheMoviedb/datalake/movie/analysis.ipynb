{
 "cells": [
  {
   "cell_type": "code",
   "execution_count": 1,
   "metadata": {},
   "outputs": [],
   "source": [
    "import pandas as pd"
   ]
  },
  {
   "cell_type": "code",
   "execution_count": 5,
   "metadata": {},
   "outputs": [
    {
     "name": "stdout",
     "output_type": "stream",
     "text": [
      "<class 'pandas.core.frame.DataFrame'>\n",
      "RangeIndex: 10000 entries, 0 to 9999\n",
      "Data columns (total 25 columns):\n",
      " #   Column                 Non-Null Count  Dtype  \n",
      "---  ------                 --------------  -----  \n",
      " 0   adult                  10000 non-null  bool   \n",
      " 1   backdrop_path          5221 non-null   object \n",
      " 2   belongs_to_collection  566 non-null    object \n",
      " 3   budget                 10000 non-null  int64  \n",
      " 4   genres                 10000 non-null  object \n",
      " 5   homepage               10000 non-null  object \n",
      " 6   id                     10000 non-null  int64  \n",
      " 7   imdb_id                10000 non-null  object \n",
      " 8   original_language      10000 non-null  object \n",
      " 9   original_title         10000 non-null  object \n",
      " 10  overview               10000 non-null  object \n",
      " 11  popularity             10000 non-null  float64\n",
      " 12  poster_path            8544 non-null   object \n",
      " 13  production_companies   10000 non-null  object \n",
      " 14  production_countries   10000 non-null  object \n",
      " 15  release_date           10000 non-null  object \n",
      " 16  revenue                10000 non-null  int64  \n",
      " 17  runtime                10000 non-null  int64  \n",
      " 18  spoken_languages       10000 non-null  object \n",
      " 19  status                 10000 non-null  object \n",
      " 20  tagline                10000 non-null  object \n",
      " 21  title                  10000 non-null  object \n",
      " 22  video                  10000 non-null  bool   \n",
      " 23  vote_average           10000 non-null  float64\n",
      " 24  vote_count             10000 non-null  int64  \n",
      "dtypes: bool(2), float64(2), int64(5), object(16)\n",
      "memory usage: 1.8+ MB\n"
     ]
    }
   ],
   "source": [
    "df = pd.read_json('./start70001_end80000.json')\n",
    "df.info()"
   ]
  }
 ],
 "metadata": {
  "kernelspec": {
   "display_name": "Python 3",
   "language": "python",
   "name": "python3"
  },
  "language_info": {
   "codemirror_mode": {
    "name": "ipython",
    "version": 3
   },
   "file_extension": ".py",
   "mimetype": "text/x-python",
   "name": "python",
   "nbconvert_exporter": "python",
   "pygments_lexer": "ipython3",
   "version": "3.10.13"
  }
 },
 "nbformat": 4,
 "nbformat_minor": 2
}
