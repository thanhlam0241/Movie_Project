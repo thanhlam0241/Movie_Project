{
 "cells": [
  {
   "cell_type": "code",
   "execution_count": null,
   "metadata": {},
   "outputs": [],
   "source": [
    "import pandas as pd\n",
    "import requests\n",
    "import json"
   ]
  },
  {
   "cell_type": "code",
   "execution_count": null,
   "metadata": {},
   "outputs": [],
   "source": [
    "API_KEY='cd84c4545786d28c90b9eef50ad42a58'\n",
    "URL_PERSON = 'https://api.themoviedb.org/3/person/{0}?api_key={1}'"
   ]
  },
  {
   "cell_type": "code",
   "execution_count": null,
   "metadata": {},
   "outputs": [],
   "source": [
    "def write_to_json(path, list_data):\n",
    "    with open(path, 'w') as file:\n",
    "        json.dump(list_data, file, indent=2)"
   ]
  },
  {
   "cell_type": "code",
   "execution_count": null,
   "metadata": {},
   "outputs": [],
   "source": [
    "def crawlPerson(id):\n",
    "    # print(f'Start crawl person id {id}')\n",
    "    try:\n",
    "        response = requests.get(URL_PERSON.format(id,API_KEY))\n",
    "        # Checking if the request was successful (status code 200)\n",
    "        if response.status_code == 200:\n",
    "            # Parsing JSON data from the response\n",
    "            json_data = response.json()\n",
    "            return json_data\n",
    "        else:\n",
    "            print(f\"Failed to get JSON data. Status code: {response.status_code}\")\n",
    "            return None\n",
    "    except Exception as e:\n",
    "        print(f\"An error occurred: {e}\")\n",
    "        return None"
   ]
  },
  {
   "cell_type": "code",
   "execution_count": null,
   "metadata": {},
   "outputs": [],
   "source": [
    "df_person = pd.read_json('../data_raw/person_ids_03_28_2024.json', lines = True)\n",
    "df_person.head()"
   ]
  },
  {
   "cell_type": "code",
   "execution_count": null,
   "metadata": {},
   "outputs": [],
   "source": [
    "df_person.info()"
   ]
  },
  {
   "cell_type": "code",
   "execution_count": null,
   "metadata": {},
   "outputs": [],
   "source": [
    "sort_list_id = df_person.sort_values(by='id')['id']\n",
    "sort_list_id.head()"
   ]
  },
  {
   "cell_type": "code",
   "execution_count": null,
   "metadata": {},
   "outputs": [],
   "source": [
    "def crawl_people(start, end):\n",
    "    list_mv = []\n",
    "    i = start\n",
    "    while i <= end:\n",
    "        movie = crawlPerson(sort_list_id.iloc[i])\n",
    "        if movie is None:\n",
    "            continue\n",
    "        else:\n",
    "            list_mv.append(movie)\n",
    "        i += 1\n",
    "    try:\n",
    "        write_to_json('./datalake/people/start{0}_end{1}.json'.format(start, end), list_mv)\n",
    "        print(f'Success crawl people from {start} to {end}')\n",
    "    except Exception as ex:\n",
    "        print(ex)"
   ]
  },
  {
   "cell_type": "code",
   "execution_count": null,
   "metadata": {},
   "outputs": [],
   "source": [
    "crawl_people(1,2)"
   ]
  }
 ],
 "metadata": {
  "kernelspec": {
   "display_name": "Python 3",
   "language": "python",
   "name": "python3"
  },
  "language_info": {
   "codemirror_mode": {
    "name": "ipython",
    "version": 3
   },
   "file_extension": ".py",
   "mimetype": "text/x-python",
   "name": "python",
   "nbconvert_exporter": "python",
   "pygments_lexer": "ipython3",
   "version": "3.8.10"
  }
 },
 "nbformat": 4,
 "nbformat_minor": 2
}
