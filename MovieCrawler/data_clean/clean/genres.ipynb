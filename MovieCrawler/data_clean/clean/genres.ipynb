{
 "cells": [
  {
   "cell_type": "code",
   "execution_count": null,
   "metadata": {},
   "outputs": [],
   "source": [
    "import json\n",
    "def write_to_json(path, list_data):\n",
    "    with open(path, 'w') as file:\n",
    "        json.dump(list_data, file, indent=2)\n",
    "def get_list_genres(path):\n",
    "    # Opening JSON file\n",
    "    try:\n",
    "        f = open(path)\n",
    "        data = json.load(f)\n",
    "        print('Load data success in' + path)\n",
    "        return data\n",
    "    except:\n",
    "        return None\n",
    "genres = get_list_genres('../raw/genres.json')\n",
    "if genres != None:\n",
    "    # genres = []\n",
    "    write_to_json('./genres.json', genres['genres'])"
   ]
  }
 ],
 "metadata": {
  "kernelspec": {
   "display_name": "py8",
   "language": "python",
   "name": "python3"
  },
  "language_info": {
   "codemirror_mode": {
    "name": "ipython",
    "version": 3
   },
   "file_extension": ".py",
   "mimetype": "text/x-python",
   "name": "python",
   "nbconvert_exporter": "python",
   "pygments_lexer": "ipython3",
   "version": "3.8.19"
  }
 },
 "nbformat": 4,
 "nbformat_minor": 2
}
