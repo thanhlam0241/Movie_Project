{
 "cells": [
  {
   "cell_type": "code",
   "execution_count": 1,
   "metadata": {},
   "outputs": [],
   "source": [
    "import pandas as pd\n",
    "import requests\n",
    "import json\n",
    "\n",
    "API_KEY='cd84c4545786d28c90b9eef50ad42a58'\n",
    "URL_COMPANY = 'https://api.themoviedb.org/3/company/{0}?api_key={1}'\n",
    "\n",
    "def write_to_json(path, list_data):\n",
    "    with open(path, 'w') as file:\n",
    "        json.dump(list_data, file, indent=2)\n",
    "def crawl(id):\n",
    "    try:\n",
    "        print(f\"id {id}\" )\n",
    "        response = requests.get(URL_COMPANY.format(id,API_KEY))\n",
    "        # Checking if the request was successful (status code 200)\n",
    "        if response.status_code == 200:\n",
    "            # Parsing JSON data from the response\n",
    "            json_data = response.json()\n",
    "            return json_data\n",
    "        else:\n",
    "            print(f\"Failed to get JSON data. Status code: {response.status_code}\")\n",
    "            return None\n",
    "    except Exception as e:\n",
    "        print(f\"An error occurred: {e}\")\n",
    "        return None"
   ]
  },
  {
   "cell_type": "code",
   "execution_count": null,
   "metadata": {},
   "outputs": [],
   "source": [
    "df_company = pd.read_json('./company.json')\n",
    "df_company.info()"
   ]
  },
  {
   "cell_type": "code",
   "execution_count": null,
   "metadata": {},
   "outputs": [],
   "source": [
    "def crawl_batch_company(index, offset):\n",
    "    list_data = []\n",
    "    for i in range(index*offset, (index + 1)*offset):\n",
    "        if i < len(df_company):\n",
    "            company_id = df_company[0][i]\n",
    "            company_data = crawl(company_id)\n",
    "            if company_data is not None:\n",
    "                list_data.append(company_data)\n",
    "        else:\n",
    "            break\n",
    "    write_to_json('./datalake/company/{0}.json'.format(index), list_data)"
   ]
  },
  {
   "cell_type": "code",
   "execution_count": null,
   "metadata": {},
   "outputs": [],
   "source": [
    "list_companies = []\n",
    "index = 0\n",
    "offset = 10000\n",
    "\n",
    "for i in range(index*offset, (index+1)*offset):\n",
    "    if i < len(df_company):\n",
    "        company_id = df_company[0][i]\n",
    "        company_data = crawl(company_id)\n",
    "        if company_data is not None:\n",
    "            list_companies.append(company_data)\n",
    "    else:\n",
    "        break\n",
    "\n",
    "write_to_json('./datalake/company/{0}.json'.format(index), list_companies)"
   ]
  }
 ],
 "metadata": {
  "kernelspec": {
   "display_name": "py8",
   "language": "python",
   "name": "python3"
  },
  "language_info": {
   "codemirror_mode": {
    "name": "ipython",
    "version": 3
   },
   "file_extension": ".py",
   "mimetype": "text/x-python",
   "name": "python",
   "nbconvert_exporter": "python",
   "pygments_lexer": "ipython3",
   "version": "3.10.13"
  }
 },
 "nbformat": 4,
 "nbformat_minor": 2
}
