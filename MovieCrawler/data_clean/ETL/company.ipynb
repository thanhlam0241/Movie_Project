{
 "cells": [
  {
   "cell_type": "code",
   "execution_count": null,
   "metadata": {},
   "outputs": [],
   "source": [
    "import pandas as pd\n",
    "import numpy as np\n",
    "import json"
   ]
  },
  {
   "cell_type": "markdown",
   "metadata": {},
   "source": [
    "# Extract"
   ]
  },
  {
   "cell_type": "code",
   "execution_count": null,
   "metadata": {},
   "outputs": [],
   "source": [
    "df = pd.read_json('../raw/company.json')\n",
    "df.info()"
   ]
  },
  {
   "cell_type": "code",
   "execution_count": null,
   "metadata": {},
   "outputs": [],
   "source": [
    "df.head()"
   ]
  },
  {
   "cell_type": "markdown",
   "metadata": {},
   "source": [
    "# Load"
   ]
  },
  {
   "cell_type": "code",
   "execution_count": null,
   "metadata": {},
   "outputs": [],
   "source": [
    "def write_to_json(path, list_data):\n",
    "    with open(path, 'w') as file:\n",
    "        json.dump(list_data, file, indent=2)\n",
    "def checkStringEmpty(value):\n",
    "    if value == \"\" or value is None:\n",
    "        return True\n",
    "    return False\n",
    "def getLanguage(value):\n",
    "    if value is None or len(value) == 0:\n",
    "        return None\n",
    "    return value[0]['name']\n",
    "def getImageUrl(value):\n",
    "    if checkStringEmpty(value):\n",
    "        return None\n",
    "    return 'https://image.tmdb.org/t/p/original' + value"
   ]
  },
  {
   "cell_type": "markdown",
   "metadata": {},
   "source": [
    "# Transform"
   ]
  },
  {
   "cell_type": "code",
   "execution_count": null,
   "metadata": {},
   "outputs": [],
   "source": [
    "List_data = []\n",
    "# loop through the rows using iterrows()\n",
    "for index, row in df.iterrows():\n",
    "    data = {\n",
    "        'id': row['id'],\n",
    "        'name': row['name'],\n",
    "        'description': row['description'],\n",
    "        'headquarters': row['headquarters'],\n",
    "        'homepage': row['homepage'],\n",
    "        'origin_country': row['origin_country'],\n",
    "        'parent_company': row['parent_company'],\n",
    "        'image': getImageUrl(row['logo_path'])\n",
    "    }\n",
    "    \n",
    "\n",
    "    List_data.append(data)\n",
    "\n",
    "write_to_json('./data/company.json', List_data)\n",
    "    \n",
    "\n",
    "        "
   ]
  }
 ],
 "metadata": {
  "kernelspec": {
   "display_name": "py8",
   "language": "python",
   "name": "python3"
  },
  "language_info": {
   "codemirror_mode": {
    "name": "ipython",
    "version": 3
   },
   "file_extension": ".py",
   "mimetype": "text/x-python",
   "name": "python",
   "nbconvert_exporter": "python",
   "pygments_lexer": "ipython3",
   "version": "3.8.19"
  }
 },
 "nbformat": 4,
 "nbformat_minor": 2
}
