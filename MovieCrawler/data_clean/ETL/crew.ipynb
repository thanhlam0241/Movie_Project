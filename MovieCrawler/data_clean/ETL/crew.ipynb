{
 "cells": [
  {
   "cell_type": "code",
   "execution_count": 1,
   "metadata": {},
   "outputs": [],
   "source": [
    "import pandas as pd\n",
    "import numpy as np\n",
    "import json"
   ]
  },
  {
   "cell_type": "code",
   "execution_count": 5,
   "metadata": {},
   "outputs": [
    {
     "name": "stdout",
     "output_type": "stream",
     "text": [
      "<class 'pandas.core.frame.DataFrame'>\n",
      "RangeIndex: 5521588 entries, 0 to 5521587\n",
      "Data columns (total 5 columns):\n",
      " #   Column      Dtype \n",
      "---  ------      ----- \n",
      " 0   _id         object\n",
      " 1   person_id   int64 \n",
      " 2   department  object\n",
      " 3   job         object\n",
      " 4   movie_id    int64 \n",
      "dtypes: int64(2), object(3)\n",
      "memory usage: 210.6+ MB\n"
     ]
    }
   ],
   "source": [
    "df_crews = pd.read_json('../raw/data/crew.json')\n",
    "df_crews.info()"
   ]
  },
  {
   "cell_type": "code",
   "execution_count": 6,
   "metadata": {},
   "outputs": [
    {
     "data": {
      "text/html": [
       "<div>\n",
       "<style scoped>\n",
       "    .dataframe tbody tr th:only-of-type {\n",
       "        vertical-align: middle;\n",
       "    }\n",
       "\n",
       "    .dataframe tbody tr th {\n",
       "        vertical-align: top;\n",
       "    }\n",
       "\n",
       "    .dataframe thead th {\n",
       "        text-align: right;\n",
       "    }\n",
       "</style>\n",
       "<table border=\"1\" class=\"dataframe\">\n",
       "  <thead>\n",
       "    <tr style=\"text-align: right;\">\n",
       "      <th></th>\n",
       "      <th>_id</th>\n",
       "      <th>person_id</th>\n",
       "      <th>department</th>\n",
       "      <th>job</th>\n",
       "      <th>movie_id</th>\n",
       "    </tr>\n",
       "  </thead>\n",
       "  <tbody>\n",
       "    <tr>\n",
       "      <th>0</th>\n",
       "      <td>52fe420dc3a36847f8000071</td>\n",
       "      <td>16767</td>\n",
       "      <td>Directing</td>\n",
       "      <td>Director</td>\n",
       "      <td>3</td>\n",
       "    </tr>\n",
       "    <tr>\n",
       "      <th>1</th>\n",
       "      <td>52fe420dc3a36847f8000083</td>\n",
       "      <td>54766</td>\n",
       "      <td>Editing</td>\n",
       "      <td>Editor</td>\n",
       "      <td>3</td>\n",
       "    </tr>\n",
       "    <tr>\n",
       "      <th>2</th>\n",
       "      <td>52fe420dc3a36847f8000095</td>\n",
       "      <td>54767</td>\n",
       "      <td>Production</td>\n",
       "      <td>Producer</td>\n",
       "      <td>3</td>\n",
       "    </tr>\n",
       "    <tr>\n",
       "      <th>3</th>\n",
       "      <td>5963e8a3c3a36828fc0e46e5</td>\n",
       "      <td>16769</td>\n",
       "      <td>Camera</td>\n",
       "      <td>Director of Photography</td>\n",
       "      <td>3</td>\n",
       "    </tr>\n",
       "    <tr>\n",
       "      <th>4</th>\n",
       "      <td>5e1395b26c0b360011ffb228</td>\n",
       "      <td>54771</td>\n",
       "      <td>Costume &amp; Make-Up</td>\n",
       "      <td>Costume Design</td>\n",
       "      <td>3</td>\n",
       "    </tr>\n",
       "  </tbody>\n",
       "</table>\n",
       "</div>"
      ],
      "text/plain": [
       "                        _id  person_id         department  \\\n",
       "0  52fe420dc3a36847f8000071      16767          Directing   \n",
       "1  52fe420dc3a36847f8000083      54766            Editing   \n",
       "2  52fe420dc3a36847f8000095      54767         Production   \n",
       "3  5963e8a3c3a36828fc0e46e5      16769             Camera   \n",
       "4  5e1395b26c0b360011ffb228      54771  Costume & Make-Up   \n",
       "\n",
       "                       job  movie_id  \n",
       "0                 Director         3  \n",
       "1                   Editor         3  \n",
       "2                 Producer         3  \n",
       "3  Director of Photography         3  \n",
       "4           Costume Design         3  "
      ]
     },
     "execution_count": 6,
     "metadata": {},
     "output_type": "execute_result"
    }
   ],
   "source": [
    "df_crews.head()"
   ]
  }
 ],
 "metadata": {
  "kernelspec": {
   "display_name": "Python 3",
   "language": "python",
   "name": "python3"
  },
  "language_info": {
   "codemirror_mode": {
    "name": "ipython",
    "version": 3
   },
   "file_extension": ".py",
   "mimetype": "text/x-python",
   "name": "python",
   "nbconvert_exporter": "python",
   "pygments_lexer": "ipython3",
   "version": "3.12.0"
  }
 },
 "nbformat": 4,
 "nbformat_minor": 2
}
