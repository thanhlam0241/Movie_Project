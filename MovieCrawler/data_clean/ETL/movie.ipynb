{
 "cells": [
  {
   "cell_type": "code",
   "execution_count": null,
   "metadata": {},
   "outputs": [],
   "source": [
    "import pandas as pd\n",
    "import numpy as np\n",
    "import json"
   ]
  },
  {
   "cell_type": "code",
   "execution_count": null,
   "metadata": {},
   "outputs": [],
   "source": [
    "df_movies = pd.read_json('../raw/movie.json')\n",
    "df_movies.info()"
   ]
  },
  {
   "cell_type": "code",
   "execution_count": null,
   "metadata": {},
   "outputs": [],
   "source": [
    "print(df_movies.head(1))"
   ]
  },
  {
   "cell_type": "code",
   "execution_count": null,
   "metadata": {},
   "outputs": [],
   "source": [
    "def write_to_json(path, list_data):\n",
    "    with open(path, 'w') as file:\n",
    "        json.dump(list_data, file, indent=2)\n",
    "def checkStringEmpty(value):\n",
    "    if value == \"\" or value is None:\n",
    "        return True\n",
    "    return False\n",
    "def getLanguage(value):\n",
    "    if value is None or len(value) == 0:\n",
    "        return None\n",
    "    return value[0]['name']\n",
    "def getImageUrl(value):\n",
    "    if checkStringEmpty(value):\n",
    "        return None\n",
    "    return 'https://image.tmdb.org/t/p/original' + value"
   ]
  },
  {
   "cell_type": "code",
   "execution_count": null,
   "metadata": {},
   "outputs": [],
   "source": [
    "List_movie = []\n",
    "list_company = []\n",
    "# loop through the rows using iterrows()\n",
    "for index, row in df_movies.iterrows():\n",
    "\n",
    "    genres = [ genre['id'] for genre in row['genres']]\n",
    "\n",
    "    companies = [ company['id'] for company in row['production_companies']]\n",
    "\n",
    "    list_company.extend(companies)\n",
    "\n",
    "    movie = {\n",
    "        \"id\": row['id'],\n",
    "        \"imdb_id\": row['imdb_id'],\n",
    "        \"title\": row['title'],\n",
    "        \"genres\": genres,\n",
    "        \"original_language\": row['original_language'],\n",
    "        \"original_title\": row['original_title'],\n",
    "        \"overview\": row['overview'],\n",
    "        \"poster_path\": getImageUrl(row['poster_path']),\n",
    "        \"backdrop_path\": getImageUrl(row['backdrop_path']),\n",
    "        \"release_date\": row['release_date'],\n",
    "        \"revenue\": row['revenue'],\n",
    "        \"budget\": row['budget'],\n",
    "        \"spoken_languages\": row['spoken_languages'],\n",
    "        \"production_countries\": row['production_countries'],\n",
    "        \"production_companies\": companies,\n",
    "        \"status\": row['status'],\n",
    "        \"video\": row['video'],\n",
    "        \"vote_average\": row['vote_average'],\n",
    "        \"vote_count\": row['vote_count']\n",
    "    }\n",
    "\n",
    "    List_movie.append(movie)\n",
    "\n",
    "write_to_json('./data/movie.json', List_movie)\n",
    "\n",
    "set_companies = set(list_company)\n",
    "write_to_json('./data/company.json', list(set_companies))\n",
    "    \n",
    "\n",
    "        "
   ]
  }
 ],
 "metadata": {
  "kernelspec": {
   "display_name": "py8",
   "language": "python",
   "name": "python3"
  },
  "language_info": {
   "codemirror_mode": {
    "name": "ipython",
    "version": 3
   },
   "file_extension": ".py",
   "mimetype": "text/x-python",
   "name": "python",
   "nbconvert_exporter": "python",
   "pygments_lexer": "ipython3",
   "version": "3.8.19"
  }
 },
 "nbformat": 4,
 "nbformat_minor": 2
}
