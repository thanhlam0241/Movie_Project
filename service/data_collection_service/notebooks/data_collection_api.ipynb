{
 "cells": [
  {
   "cell_type": "code",
   "execution_count": 4,
   "metadata": {},
   "outputs": [
    {
     "name": "stdout",
     "output_type": "stream",
     "text": [
      "Defaulting to user installation because normal site-packages is not writeable\n",
      "Collecting requests\n",
      "  Using cached requests-2.31.0-py3-none-any.whl (62 kB)\n",
      "Collecting urllib3<3,>=1.21.1\n",
      "  Using cached urllib3-2.2.1-py3-none-any.whl (121 kB)\n",
      "Collecting certifi>=2017.4.17\n",
      "  Using cached certifi-2024.2.2-py3-none-any.whl (163 kB)\n",
      "Collecting idna<4,>=2.5\n",
      "  Using cached idna-3.6-py3-none-any.whl (61 kB)\n",
      "Collecting charset-normalizer<4,>=2\n",
      "  Downloading charset_normalizer-3.3.2-cp310-cp310-manylinux_2_17_x86_64.manylinux2014_x86_64.whl (142 kB)\n",
      "\u001b[2K     \u001b[90m━━━━━━━━━━━━━━━━━━━━━━━━━━━━━━━━━━━━━\u001b[0m \u001b[32m142.1/142.1 KB\u001b[0m \u001b[31m500.6 kB/s\u001b[0m eta \u001b[36m0:00:00\u001b[0ma \u001b[36m0:00:01\u001b[0m\n",
      "\u001b[?25hInstalling collected packages: urllib3, idna, charset-normalizer, certifi, requests\n",
      "Successfully installed certifi-2024.2.2 charset-normalizer-3.3.2 idna-3.6 requests-2.31.0 urllib3-2.2.1\n"
     ]
    }
   ],
   "source": [
    "!pip install requests"
   ]
  },
  {
   "cell_type": "code",
   "execution_count": 6,
   "metadata": {},
   "outputs": [],
   "source": [
    "import csv\n",
    "import requests\n",
    "\n",
    "api_key = '7a201835d4fca17fb0cb0bcd9372a722'\n",
    "start_year = 2010\n",
    "end_year = 2022\n",
    "output_file = 'movies.csv'\n",
    "\n",
    "with open(output_file, 'w', newline='', encoding='utf-8') as f:\n",
    "    writer = csv.writer(f)\n",
    "    writer.writerow(['Title', 'Overview', 'Release Date', 'Vote Average', 'Vote Count', 'Runtime', 'Budget', 'Revenue', 'Popularity', 'Production Countries', 'Production Companies', 'Genres'])\n",
    "\n",
    "    for year in range(start_year, end_year + 1):\n",
    "        page = 1\n",
    "        movie_count = 0\n",
    "\n",
    "        while movie_count < 500:\n",
    "            url = f'https://api.themoviedb.org/3/discover/movie?api_key={api_key}&language=en-US&sort_by=vote_count.desc&include_adult=true&include_video=false&page={page}&primary_release_year={year}&release_date.gte={year}-01-01&release_date.lte={year}-12-31'\n",
    "            response = requests.get(url)\n",
    "\n",
    "            if response.status_code == 200:\n",
    "                data = response.json()\n",
    "                results = data['results']\n",
    "\n",
    "                if len(results) == 0:\n",
    "                    break\n",
    "\n",
    "                for movie in results:\n",
    "                    if movie_count >= 500:\n",
    "                        break\n",
    "\n",
    "                    movie_id = movie['id']\n",
    "                    details_url = f'https://api.themoviedb.org/3/movie/{movie_id}?api_key={api_key}&language=en-US&append_to_response=runtime'\n",
    "                    response = requests.get(details_url)\n",
    "\n",
    "                    if response.status_code == 200:\n",
    "                        details = response.json()\n",
    "\n",
    "                        production_countries = [country['name'] for country in details['production_countries']]\n",
    "                        if 'United States of America' in production_countries:\n",
    "                            title = details['title']\n",
    "                            overview = details['overview']\n",
    "                            release_date = details['release_date']  \n",
    "                            vote_average = details['vote_average']\n",
    "                            vote_count = details['vote_count']\n",
    "                            budget = details['budget'] if 'budget' in details else 'N/A'\n",
    "                            revenue = details['revenue'] if 'revenue' in details else 'N/A'\n",
    "                            popularity = details['popularity']\n",
    "                            production_companies = [company['name'] for company in details['production_companies']]\n",
    "                            genres = [genre['name'] for genre in details['genres']]\n",
    "                            runtime = details['runtime']\n",
    "                            writer.writerow([title, overview, release_date, vote_average, vote_count, runtime, budget, revenue, popularity, production_countries, production_companies, genres])\n",
    "                            movie_count += 1\n",
    "                    else:\n",
    "                        print(f'Failed to retrieve data for movie {movie_id}')\n",
    "            else:\n",
    "                print(f'Failed to retrieve data for year {year} page {page}')\n",
    "\n",
    "            page += 1\n",
    "\n",
    "        if movie_count < 500:\n",
    "            print(f'Unable to retrieve 500 movies for year {year}. Found only {movie_count} movies.')\n",
    "\n",
    "print(f'Data written to {output_file}')\n",
    "\n"
   ]
  }
 ],
 "metadata": {
  "kernelspec": {
   "display_name": "Python 3",
   "language": "python",
   "name": "python3"
  },
  "language_info": {
   "codemirror_mode": {
    "name": "ipython",
    "version": 3
   },
   "file_extension": ".py",
   "mimetype": "text/x-python",
   "name": "python",
   "nbconvert_exporter": "python",
   "pygments_lexer": "ipython3",
   "version": "3.10.12"
  }
 },
 "nbformat": 4,
 "nbformat_minor": 2
}
