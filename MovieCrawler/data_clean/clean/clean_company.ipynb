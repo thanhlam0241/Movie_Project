{
 "cells": [
  {
   "cell_type": "code",
   "execution_count": 6,
   "metadata": {},
   "outputs": [
    {
     "name": "stdout",
     "output_type": "stream",
     "text": [
      "../../datalake/company/0.json\n",
      "../../datalake/company/1.json\n",
      "../../datalake/company/10.json\n",
      "../../datalake/company/11.json\n",
      "../../datalake/company/12.json\n",
      "../../datalake/company/13.json\n",
      "../../datalake/company/14.json\n",
      "../../datalake/company/15.json\n",
      "../../datalake/company/16.json\n",
      "../../datalake/company/2.json\n",
      "../../datalake/company/3.json\n",
      "../../datalake/company/4.json\n",
      "../../datalake/company/5.json\n",
      "../../datalake/company/6.json\n",
      "../../datalake/company/7.json\n",
      "../../datalake/company/8.json\n",
      "../../datalake/company/9.json\n"
     ]
    }
   ],
   "source": [
    "import os\n",
    "# traverse whole directory\n",
    "\n",
    "paths = []\n",
    "\n",
    "for root, dirs, files in os.walk('../../datalake/company/'):\n",
    "    # select file name\n",
    "    for file in files:\n",
    "        # check the extension of files\n",
    "        if file.endswith('.json'):\n",
    "            # print whole path of files\n",
    "            print(os.path.join(root, file))\n",
    "            paths.append(os.path.join(root, file))"
   ]
  },
  {
   "cell_type": "code",
   "execution_count": 7,
   "metadata": {},
   "outputs": [],
   "source": [
    "import json"
   ]
  },
  {
   "cell_type": "code",
   "execution_count": 8,
   "metadata": {},
   "outputs": [],
   "source": [
    "def write_to_json(path, list_data):\n",
    "    with open(path, 'w') as file:\n",
    "        json.dump(list_data, file, indent=2)"
   ]
  },
  {
   "cell_type": "code",
   "execution_count": 9,
   "metadata": {},
   "outputs": [],
   "source": [
    "def get_list_company(path):\n",
    "    # Opening JSON file\n",
    "    try:\n",
    "        f = open(path)\n",
    "        data = json.load(f)\n",
    "        print('Load data success in' + path)\n",
    "        return data\n",
    "    except:\n",
    "        return None"
   ]
  },
  {
   "cell_type": "code",
   "execution_count": 10,
   "metadata": {},
   "outputs": [
    {
     "name": "stdout",
     "output_type": "stream",
     "text": [
      "Load data success in../../datalake/company/0.json\n",
      "Load data success in../../datalake/company/1.json\n",
      "Load data success in../../datalake/company/10.json\n",
      "Load data success in../../datalake/company/11.json\n",
      "Load data success in../../datalake/company/12.json\n",
      "Load data success in../../datalake/company/13.json\n",
      "Load data success in../../datalake/company/14.json\n",
      "Load data success in../../datalake/company/15.json\n",
      "Load data success in../../datalake/company/16.json\n",
      "Load data success in../../datalake/company/2.json\n",
      "Load data success in../../datalake/company/3.json\n",
      "Load data success in../../datalake/company/4.json\n",
      "Load data success in../../datalake/company/5.json\n",
      "Load data success in../../datalake/company/6.json\n",
      "Load data success in../../datalake/company/7.json\n",
      "Load data success in../../datalake/company/8.json\n",
      "Load data success in../../datalake/company/9.json\n"
     ]
    }
   ],
   "source": [
    "list_company = []\n",
    "for path in paths:\n",
    "    list_data = get_list_company(path)\n",
    "    if list_data is not None:\n",
    "        list_company.extend(list_data)\n",
    "\n",
    "write_to_json('../raw/company.json', list_company)\n"
   ]
  }
 ],
 "metadata": {
  "kernelspec": {
   "display_name": "py8",
   "language": "python",
   "name": "python3"
  },
  "language_info": {
   "codemirror_mode": {
    "name": "ipython",
    "version": 3
   },
   "file_extension": ".py",
   "mimetype": "text/x-python",
   "name": "python",
   "nbconvert_exporter": "python",
   "pygments_lexer": "ipython3",
   "version": "3.8.19"
  }
 },
 "nbformat": 4,
 "nbformat_minor": 2
}
