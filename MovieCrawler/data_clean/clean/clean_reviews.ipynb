{
 "cells": [
  {
   "cell_type": "code",
   "execution_count": null,
   "metadata": {},
   "outputs": [],
   "source": [
    "import json\n",
    "import os"
   ]
  },
  {
   "cell_type": "code",
   "execution_count": null,
   "metadata": {},
   "outputs": [],
   "source": [
    "# traverse whole directory\n",
    "paths = []\n",
    "\n",
    "for root, dirs, files in os.walk('../../datalake/review/'):\n",
    "    # select file name\n",
    "    for file in files:\n",
    "        # check the extension of files\n",
    "        if file.endswith('.json'):\n",
    "            # print whole path of files\n",
    "            print(os.path.join(root, file))\n",
    "            paths.append(os.path.join(root, file))"
   ]
  },
  {
   "cell_type": "code",
   "execution_count": null,
   "metadata": {},
   "outputs": [],
   "source": [
    "def write_to_json(path, list_data):\n",
    "    with open(path, 'w') as file:\n",
    "        json.dump(list_data, file, indent=2)"
   ]
  },
  {
   "cell_type": "code",
   "execution_count": null,
   "metadata": {},
   "outputs": [],
   "source": [
    "def get_list_reviews(path):\n",
    "    # Opening JSON file\n",
    "    try:\n",
    "        f = open(path)\n",
    "        data = json.load(f)\n",
    "        print('Load data success in' + path)\n",
    "        return data\n",
    "    except:\n",
    "        return None"
   ]
  },
  {
   "cell_type": "code",
   "execution_count": null,
   "metadata": {},
   "outputs": [],
   "source": [
    "data = get_list_reviews('../../datalake/review/1.json')\n",
    "print(data[0])"
   ]
  },
  {
   "cell_type": "code",
   "execution_count": null,
   "metadata": {},
   "outputs": [],
   "source": [
    "list_reviews = []\n",
    "for path in paths:\n",
    "    list_data = get_list_reviews(path)\n",
    "    if list_data is not None:\n",
    "        list_reviews.extend(list_data)\n",
    "\n",
    "write_to_json('../raw/reviews.json', list_reviews)"
   ]
  }
 ],
 "metadata": {
  "kernelspec": {
   "display_name": "py8",
   "language": "python",
   "name": "python3"
  },
  "language_info": {
   "codemirror_mode": {
    "name": "ipython",
    "version": 3
   },
   "file_extension": ".py",
   "mimetype": "text/x-python",
   "name": "python",
   "nbconvert_exporter": "python",
   "pygments_lexer": "ipython3",
   "version": "3.8.19"
  }
 },
 "nbformat": 4,
 "nbformat_minor": 2
}
